{
  "metadata": {
    "kernelspec": {
      "name": "python",
      "display_name": "Python (Pyodide)",
      "language": "python"
    },
    "language_info": {
      "codemirror_mode": {
        "name": "python",
        "version": 3
      },
      "file_extension": ".py",
      "mimetype": "text/x-python",
      "name": "python",
      "nbconvert_exporter": "python",
      "pygments_lexer": "ipython3",
      "version": "3.8"
    }
  },
  "nbformat_minor": 4,
  "nbformat": 4,
  "cells": [
    {
      "cell_type": "code",
      "source": "from sklearn.preprocessing import StandardScaler\nfrom sklearn.pipeline import Pipeline\nfrom sklearn.model_selection import GridSearchCV, StratifiedKFold, RandomizedSearchCV, train_test_split\nfrom scipy import stats\nimport pandas as pd\nimport numpy as np\nfrom sklearn.neighbors import KNeighborsClassifier\nfrom sklearn.decomposition import PCA\nfrom sklearn.metrics import classification_report, confusion_matrix, accuracy_score, f1_score",
      "metadata": {
        "trusted": true
      },
      "execution_count": 1,
      "outputs": []
    },
    {
      "cell_type": "code",
      "source": "def remove_outliers(data: pd.DataFrame, ZSCORE_THREASHOLD: int = 4) -> pd.DataFrame:\n    zscore = np.abs(stats.zscore(data.select_dtypes(include=[\"float\", \"int\"])))\n    is_inlier = ~ (zscore > ZSCORE_THREASHOLD).any(axis=1)\n    data = data[is_inlier]\n    return data",
      "metadata": {
        "trusted": true
      },
      "execution_count": 2,
      "outputs": []
    },
    {
      "cell_type": "code",
      "source": "def pipe(X, y, n_splits: int, scoring: str, n_iter):\n\n    pre_processing = Pipeline([\n                    ('scaler', StandardScaler()),\n                    ('pca', PCA())\n                    ])\n    \n    \n    main = Pipeline(steps=[('pre_processing', pre_processing),\n                          ('knn', KNeighborsClassifier())\n                        ])\n                    \n    param_grid = {'knn__n_neighbors': [3, 5, 7, 9, 11, 13, 15, 17, 19, 21, 23, 25, 27, 29, 31],\n                'knn__weights': ['uniform', 'distance'],\n                'knn__metric': ['minkowski'],\n                'knn__algorithm': ['auto'],\n                'knn__p': [1, 3, 4, 5],\n                'pre_processing__pca__n_components': ['mle']}  # , 5, 6, 7, 8, 9, 10, 11\n\n    cv = StratifiedKFold(n_splits=n_splits, shuffle=True)\n    \n    if n_iter is None:\n        grid = GridSearchCV(main, param_grid, cv=cv, scoring=scoring, n_jobs=-1, verbose=1)\n    else:\n        grid = RandomizedSearchCV(main, param_grid, cv=cv, scoring=scoring, n_jobs=-1, verbose=1, n_iter=n_iter)\n\n    grid.fit(X, y)\n\n    # print(grid.best_params_)\n    # print(grid.best_score_)\n    return grid",
      "metadata": {
        "trusted": true
      },
      "execution_count": 3,
      "outputs": []
    },
    {
      "cell_type": "code",
      "source": "def get_grids(X, y, n_iter = None) -> dict:\n    grids = {}\n    for splits in range(10, 11):\n        for scoring in ['accuracy']:  # , 'precision', 'recall', 'f1'\n            # print(f'splits: {splits}, scoring: {scoring}')\n            grids[(splits, scoring)] = pipe(X, y, splits, scoring, n_iter)\n            # print('----------------------------------------')\n    return grids",
      "metadata": {
        "trusted": true
      },
      "execution_count": 4,
      "outputs": []
    },
    {
      "cell_type": "code",
      "source": "def find_best_model(grids, scoring: str) -> tuple[int, str]:\n    best_score = 0\n    best_model = None\n    best_key = (0, 'foo')   # To avoid PyLance warning\n    for keys in grids.keys():\n        if scoring in keys:\n            if grids[keys].best_score_ > best_score:\n                best_score = grids[keys].best_score_\n                best_model = grids[keys].best_params_\n                best_key = keys\n    return best_key",
      "metadata": {
        "trusted": true
      },
      "execution_count": 5,
      "outputs": []
    },
    {
      "cell_type": "code",
      "source": "data = pd.read_csv('project_train.csv')\ndata.drop_duplicates(inplace=True)\ndata = remove_outliers(data)",
      "metadata": {
        "trusted": true
      },
      "execution_count": 6,
      "outputs": []
    },
    {
      "cell_type": "code",
      "source": "X = data.drop(columns=[\"Label\"])\ny = data[\"Label\"]",
      "metadata": {
        "trusted": true
      },
      "execution_count": 7,
      "outputs": []
    },
    {
      "cell_type": "code",
      "source": "X_train, X_test, y_train, y_test = train_test_split(X, y, test_size=0.2, stratify=y, shuffle=True)\n\ngrids = get_grids(X_train, y_train)\nbest_key = find_best_model(grids, 'accuracy')\nbest_model = grids[best_key]\n\nprint('The best model in terms of highest accuracy score is:')\nprint()\n\nfor param in best_model.best_params_:\n    print(f'{param}: {best_model.best_params_[param]}')\nprint(f'PCA components {best_model.best_estimator_.named_steps[\"pre_processing\"].named_steps[\"pca\"].n_components_}')\n\nprint(f'Number of folds: {best_key[0]}')\nprint(f'Highest accuracy: {best_model.best_score_}')\n\ny_pred = best_model.predict(X_test)\nprint(classification_report(y_test, y_pred))",
      "metadata": {
        "trusted": true
      },
      "execution_count": 13,
      "outputs": [
        {
          "name": "stdout",
          "text": "Fitting 10 folds for each of 120 candidates, totalling 1200 fits\nThe best model in terms of highest accuracy score is:\n\nknn__algorithm: auto\nknn__metric: minkowski\nknn__n_neighbors: 5\nknn__p: 1\nknn__weights: distance\npre_processing__pca__n_components: mle\nPCA components 10\nNumber of folds: 10\nHighest accuracy: 0.8161538461538462\n              precision    recall  f1-score   support\n\n           0       0.76      0.88      0.81        50\n           1       0.86      0.72      0.78        50\n\n    accuracy                           0.80       100\n   macro avg       0.81      0.80      0.80       100\nweighted avg       0.81      0.80      0.80       100\n\n",
          "output_type": "stream"
        }
      ]
    },
    {
      "cell_type": "code",
      "source": "grids = get_grids(X, y)\nbest_key = find_best_model(grids, 'accuracy')\nbest_model = grids[best_key]\n\nprint('The best model in terms of highest accuracy score is:')\nprint()\n\nfor param in best_model.best_params_:\n    print(f'{param}: {best_model.best_params_[param]}')\nprint(f'PCA components {best_model.best_estimator_.named_steps[\"pre_processing\"].named_steps[\"pca\"].n_components_}')\n\nprint(f'Number of folds: {best_key[0]}')\nprint(f'Highest accuracy: {best_model.best_score_}')",
      "metadata": {
        "trusted": true
      },
      "execution_count": 14,
      "outputs": [
        {
          "name": "stdout",
          "text": "Fitting 10 folds for each of 120 candidates, totalling 1200 fits\nThe best model in terms of highest accuracy score is:\n\nknn__algorithm: auto\nknn__metric: minkowski\nknn__n_neighbors: 15\nknn__p: 1\nknn__weights: distance\npre_processing__pca__n_components: mle\nPCA components 10\nNumber of folds: 10\nHighest accuracy: 0.826530612244898\n",
          "output_type": "stream"
        }
      ]
    }
  ]
}